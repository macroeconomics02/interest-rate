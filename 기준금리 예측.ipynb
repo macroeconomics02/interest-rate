{
 "cells": [
  {
   "cell_type": "code",
   "execution_count": null,
   "id": "3a03c2f9",
   "metadata": {},
   "outputs": [],
   "source": [
    "# conda create -n (가상환경 이름) python \n",
    "# conda activate ir\n",
    "import pandas as pd"
   ]
  }
 ],
 "metadata": {
  "kernelspec": {
   "display_name": "ir",
   "language": "python",
   "name": "python3"
  },
  "language_info": {
   "codemirror_mode": {
    "name": "ipython",
    "version": 3
   },
   "file_extension": ".py",
   "mimetype": "text/x-python",
   "name": "python",
   "nbconvert_exporter": "python",
   "pygments_lexer": "ipython3",
   "version": "3.13.3"
  }
 },
 "nbformat": 4,
 "nbformat_minor": 5
}
